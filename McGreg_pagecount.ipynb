{
 "cells": [
  {
   "cell_type": "code",
   "execution_count": null,
   "id": "7fd7b953-bb49-4891-bc2a-97dbd3971d26",
   "metadata": {},
   "outputs": [],
   "source": []
  },
  {
   "cell_type": "code",
   "execution_count": null,
   "id": "106b03eb-f91c-4fda-b972-b10c9d73c3d0",
   "metadata": {},
   "outputs": [],
   "source": [
    "# create a list that contains the number of pages in each chapter\n",
    "# of a fictional print version of this book \n",
    "page_counts = [28, 32, 44, 23, 56, 32, 12, 34, 30]"
   ]
  },
  {
   "cell_type": "code",
   "execution_count": 2,
   "id": "7491c8cc-cb42-4ec3-8a3b-6d450555f784",
   "metadata": {
    "tags": []
   },
   "outputs": [
    {
     "name": "stdout",
     "output_type": "stream",
     "text": [
      "28\n",
      "60\n",
      "104\n",
      "127\n",
      "183\n",
      "215\n",
      "227\n",
      "261\n",
      "291\n",
      "291\n"
     ]
    }
   ],
   "source": [
    "# fictional list of chapter page counts\n",
    "page_counts = [28, 32, 44, 23, 56, 32, 12, 34, 30]\n",
    "\n",
    "# variable for tracking total page count; starting value is 0\n",
    "total_pages = 0\n",
    "\n",
    "# for every item in the list, perform some action\n",
    "for a_number in page_counts:\n",
    "    # in this case, add the number to our total_pages variable\n",
    "    total_pages = total_pages + a_number\n",
    "    print(total_pages)\n",
    "    \n",
    "print(total_pages)"
   ]
  },
  {
   "cell_type": "code",
   "execution_count": 3,
   "id": "d1ddd517-c528-4bfb-b5e7-f8117aef87d9",
   "metadata": {
    "tags": []
   },
   "outputs": [
    {
     "ename": "NameError",
     "evalue": "name 'b_number' is not defined",
     "output_type": "error",
     "traceback": [
      "\u001b[1;31m---------------------------------------------------------------------------\u001b[0m",
      "\u001b[1;31mNameError\u001b[0m                                 Traceback (most recent call last)",
      "Cell \u001b[1;32mIn[3], line 10\u001b[0m\n\u001b[0;32m      7\u001b[0m \u001b[38;5;66;03m# for every item in the list, perform some action\u001b[39;00m\n\u001b[0;32m      8\u001b[0m \u001b[38;5;28;01mfor\u001b[39;00m a_number \u001b[38;5;129;01min\u001b[39;00m page_counts:\n\u001b[0;32m      9\u001b[0m     \u001b[38;5;66;03m# in this case, add the number to our total_pages variable\u001b[39;00m\n\u001b[1;32m---> 10\u001b[0m     total_pages \u001b[38;5;241m=\u001b[39m total_pages \u001b[38;5;241m+\u001b[39m \u001b[43mb_number\u001b[49m\n\u001b[0;32m     11\u001b[0m     \u001b[38;5;28mprint\u001b[39m(total_pages)\n\u001b[0;32m     13\u001b[0m \u001b[38;5;28mprint\u001b[39m(total_pages)\n",
      "\u001b[1;31mNameError\u001b[0m: name 'b_number' is not defined"
     ]
    }
   ],
   "source": [
    "# fictional list of chapter page counts\n",
    "page_counts = [28, 32, 44, 23, 56, 32, 12, 34, 30]\n",
    "\n",
    "# variable for tracking total page count; starting value is 0\n",
    "total_pages = 0\n",
    "\n",
    "# for every item in the list, perform some action\n",
    "for a_number in page_counts:\n",
    "    # in this case, add the number to our total_pages variable\n",
    "    total_pages = total_pages + b_number\n",
    "    print(total_pages)\n",
    "    \n",
    "print(total_pages)"
   ]
  },
  {
   "cell_type": "code",
   "execution_count": 4,
   "id": "bcd7448c-5aa1-466a-876c-7a3d71cf0077",
   "metadata": {
    "tags": []
   },
   "outputs": [
    {
     "name": "stdout",
     "output_type": "stream",
     "text": [
      "28\n",
      "60\n",
      "104\n",
      "127\n",
      "183\n",
      "215\n",
      "227\n",
      "261\n",
      "291\n",
      "291\n"
     ]
    }
   ],
   "source": [
    "# fictional list of chapter page counts\n",
    "page_counts = [28, 32, 44, 23, 56, 32, 12, 34, 30]\n",
    "\n",
    "# variable for tracking total page count; starting value is 0\n",
    "total_pages = 0\n",
    "\n",
    "# for every item in the list, perform some action\n",
    "for b_number in page_counts:\n",
    "    # in this case, add the number to our total_pages variable\n",
    "    total_pages = total_pages + b_number\n",
    "    print(total_pages)\n",
    "    \n",
    "print(total_pages)"
   ]
  },
  {
   "cell_type": "code",
   "execution_count": 7,
   "id": "f90dd06a-9099-4b9a-b0d4-065d45fd451b",
   "metadata": {
    "tags": []
   },
   "outputs": [
    {
     "name": "stdout",
     "output_type": "stream",
     "text": [
      "Top of loop!\n",
      "The current item is : \n",
      "28\n",
      "The running total is : \n",
      "28\n",
      "Bottom of loop!\n",
      "Top of loop!\n",
      "The current item is : \n",
      "32\n",
      "The running total is : \n",
      "60\n",
      "Bottom of loop!\n",
      "Top of loop!\n",
      "The current item is : \n",
      "44\n",
      "The running total is : \n",
      "104\n",
      "Bottom of loop!\n",
      "Top of loop!\n",
      "The current item is : \n",
      "23\n",
      "The running total is : \n",
      "127\n",
      "Bottom of loop!\n",
      "Top of loop!\n",
      "The current item is : \n",
      "56\n",
      "The running total is : \n",
      "183\n",
      "Bottom of loop!\n",
      "Top of loop!\n",
      "The current item is : \n",
      "32\n",
      "The running total is : \n",
      "215\n",
      "Bottom of loop!\n",
      "Top of loop!\n",
      "The current item is : \n",
      "12\n",
      "The running total is : \n",
      "227\n",
      "Bottom of loop!\n",
      "Top of loop!\n",
      "The current item is : \n",
      "34\n",
      "The running total is : \n",
      "261\n",
      "Bottom of loop!\n",
      "Top of loop!\n",
      "The current item is : \n",
      "30\n",
      "The running total is : \n",
      "291\n",
      "Bottom of loop!\n",
      "291\n"
     ]
    }
   ],
   "source": [
    "# fictional list of chapter page counts\n",
    "page_counts = [28, 32, 44, 23, 56, 32, 12, 34, 30]\n",
    "\n",
    "# variable for tracking total page count; starting value is 0\n",
    "total_pages = 0\n",
    "\n",
    "# for every item in the list, perform some action\n",
    "for b_number in page_counts:\n",
    "    # in this case, add the number to our total_pages variable\n",
    "    print(\"Top of loop!\")\n",
    "    print(\"The current item is : \")\n",
    "    print(b_number)\n",
    "    total_pages = total_pages + b_number\n",
    "    print(\"The running total is : \")\n",
    "    print(total_pages)\n",
    "    print(\"Bottom of loop!\")\n",
    "    \n",
    "print(total_pages)"
   ]
  },
  {
   "cell_type": "code",
   "execution_count": 8,
   "id": "e7d255df-40e9-4d8c-ac89-90c98370d56b",
   "metadata": {
    "tags": []
   },
   "outputs": [
    {
     "name": "stdout",
     "output_type": "stream",
     "text": [
      "291\n"
     ]
    }
   ],
   "source": [
    "# fictional list of chapter page counts\n",
    "page_counts = [28, 32, 44, 23, 56, 32, 12, 34, 30]\n",
    "\n",
    "# print the result of using sum() function on the list\n",
    "print(sum(page_counts))\n"
   ]
  },
  {
   "cell_type": "code",
   "execution_count": 9,
   "id": "ff1e87d0-87eb-4ef7-b89c-d5169622a9f5",
   "metadata": {
    "tags": []
   },
   "outputs": [
    {
     "name": "stdout",
     "output_type": "stream",
     "text": [
      "Top of loop!\n",
      "The current item is : \n",
      "28\n",
      "The running total is : \n",
      "28\n",
      "Bottom of loop!\n",
      "Top of loop!\n",
      "The current item is : \n",
      "32\n",
      "The running total is : \n",
      "60\n",
      "Bottom of loop!\n",
      "Top of loop!\n",
      "The current item is : \n",
      "44\n",
      "The running total is : \n",
      "104\n",
      "Bottom of loop!\n",
      "Top of loop!\n",
      "The current item is : \n",
      "23\n",
      "The running total is : \n",
      "127\n",
      "Bottom of loop!\n",
      "Top of loop!\n",
      "The current item is : \n",
      "56\n",
      "The running total is : \n",
      "183\n",
      "Bottom of loop!\n",
      "Top of loop!\n",
      "The current item is : \n",
      "32\n",
      "The running total is : \n",
      "215\n",
      "Bottom of loop!\n",
      "Top of loop!\n",
      "The current item is : \n",
      "12\n",
      "The running total is : \n",
      "227\n",
      "Bottom of loop!\n",
      "Top of loop!\n",
      "The current item is : \n",
      "34\n",
      "The running total is : \n",
      "261\n",
      "Bottom of loop!\n",
      "Top of loop!\n",
      "The current item is : \n",
      "30\n",
      "The running total is : \n",
      "291\n",
      "Bottom of loop!\n",
      "291\n"
     ]
    }
   ],
   "source": [
    "# fictional list of chapter page counts\n",
    "page_counts = [28, 32, 44, 23, 56, 32, 12, 34, 30]\n",
    "\n",
    "# variable for tracking total page count; starting value is 0\n",
    "total_pages = 0\n",
    "\n",
    "# for every item in the list, perform some action\n",
    "for b_number in page_counts:\n",
    "    # in this case, add the number to our total_pages variable\n",
    "    print(\"Top of loop!\")\n",
    "    print(\"The current item is : \")\n",
    "    print(b_number)\n",
    "    total_pages = total_pages + b_number\n",
    "    print(\"The running total is : \")\n",
    "    print(total_pages)\n",
    "    print(\"Bottom of loop!\")\n",
    "    \n",
    "print(sum(page_counts))"
   ]
  },
  {
   "cell_type": "code",
   "execution_count": 12,
   "id": "5cc433d2-b87f-4b10-b777-93a1b6702bdf",
   "metadata": {
    "tags": []
   },
   "outputs": [
    {
     "name": "stdout",
     "output_type": "stream",
     "text": [
      "291\n",
      "Number of chapters over 30 pages: \n",
      "5\n",
      "Number of chapters under 30 pages: \n",
      "4\n"
     ]
    }
   ],
   "source": [
    "# fictional list of chapter page counts\n",
    "page_counts = [28, 32, 44, 23, 56, 32, 12, 34, 30]\n",
    "\n",
    "# variable for tracking total page count; starting value is 0\n",
    "total_pages = 0\n",
    "\n",
    "# the number of chapters with more than 30 pages\n",
    "over_30 = 0\n",
    "\n",
    "# the number of chapters with fewer than 30 pages\n",
    "under_30 = 0\n",
    "\n",
    "# for every item in the page_counts list, perform some action\n",
    "for a_number in page_counts:\n",
    "    \n",
    "    # in this case, add the number to our total_pages variable\n",
    "    total_pages = total_pages + a_number\n",
    "    \n",
    "    # check if the current number of pages is more than 30\n",
    "    if a_number > 30:\n",
    "        \n",
    "        # if so, add 1 to our over_30 counter\n",
    "        over_30 = over_30 + 1\n",
    "        \n",
    "        # otherwise\n",
    "    else:\n",
    "            # add 1 to our under_30 counter\n",
    "            under_30 = under_30 + 1\n",
    "\n",
    "# print our various results\n",
    "print(total_pages)\n",
    "print(\"Number of chapters over 30 pages: \")\n",
    "print(over_30)\n",
    "print(\"Number of chapters under 30 pages: \")\n",
    "print(under_30)\n"
   ]
  },
  {
   "cell_type": "code",
   "execution_count": 14,
   "id": "e9e11299-775b-4cde-9254-e1e7fe7cca8b",
   "metadata": {
    "tags": []
   },
   "outputs": [
    {
     "name": "stdout",
     "output_type": "stream",
     "text": [
      "291\n",
      "Number of chapters over 30 pages: \n",
      "5\n",
      "Number of chapters under 30 pages: \n",
      "4\n"
     ]
    }
   ],
   "source": [
    "# fictional list of chapter page counts\n",
    "page_counts = [28, 32, 44, 23, 56, 32, 12, 34, 30]\n",
    "\n",
    "# define a new count_pages() function that takes one ingredient/argument:\n",
    "# a list of numbers\n",
    "def count_pages(pages_count_list):\n",
    "    \n",
    "    # variable for tracking total page count; starting value is 0\n",
    "    total_pages = 0\n",
    "\n",
    "    # the number of chapters with more than 30 pages\n",
    "    over_30 = 0\n",
    "\n",
    "    # the number of chapters with fewer than 30 pages\n",
    "    under_30 = 0\n",
    "\n",
    "    # for every item in the page_counts list, perform some action\n",
    "    for a_number in pages_count_list:\n",
    "    \n",
    "        # in this case, add the number to our total_pages variable\n",
    "        total_pages = total_pages + a_number\n",
    "    \n",
    "    # check if the current number of pages is more than 30\n",
    "    if a_number > 30:\n",
    "        \n",
    "        # if so, add 1 to our over_30 counter\n",
    "        over_30 = over_30 + 1\n",
    "        \n",
    "        # otherwise\n",
    "    else:\n",
    "            # add 1 to our under_30 counter\n",
    "            under_30 = under_30 + 1\n",
    "\n",
    "# print our various results\n",
    "print(total_pages)\n",
    "print(\"Number of chapters over 30 pages: \")\n",
    "print(over_30)\n",
    "print(\"Number of chapters under 30 pages: \")\n",
    "print(under_30)\n",
    "\n",
    "# call/execute this recipe, being sure to pass in our\n",
    "# actual list as an argument/ingredient\n",
    "count_pages(page_counts)\n"
   ]
  },
  {
   "cell_type": "code",
   "execution_count": null,
   "id": "6af43334-9044-4b6c-8790-1566d0be6248",
   "metadata": {},
   "outputs": [],
   "source": []
  }
 ],
 "metadata": {
  "kernelspec": {
   "display_name": "Python 3 (ipykernel)",
   "language": "python",
   "name": "python3"
  },
  "language_info": {
   "codemirror_mode": {
    "name": "ipython",
    "version": 3
   },
   "file_extension": ".py",
   "mimetype": "text/x-python",
   "name": "python",
   "nbconvert_exporter": "python",
   "pygments_lexer": "ipython3",
   "version": "3.11.3"
  }
 },
 "nbformat": 4,
 "nbformat_minor": 5
}
