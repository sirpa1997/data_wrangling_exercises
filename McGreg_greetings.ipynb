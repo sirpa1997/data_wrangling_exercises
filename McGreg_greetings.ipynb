{
 "cells": [
  {
   "cell_type": "code",
   "execution_count": 1,
   "id": "32673609-1d0a-4eb7-977d-5c800e084e32",
   "metadata": {
    "tags": []
   },
   "outputs": [
    {
     "name": "stdout",
     "output_type": "stream",
     "text": [
      "Ello Susan E. McGregor\n",
      "Ello Jeff Bleiel\n"
     ]
    }
   ],
   "source": [
    "# create a variable named author, set its contents to \"Susan E. McGregor\"\n",
    "author = \"Susan E. McGregor\"\n",
    "\n",
    "# create a variable named editor, set its contents to \"Jeff Bleiel\"\n",
    "editor = \"Jeff Bleiel\"\n",
    "\n",
    "# use the built-in print function to output \"Hello\" messages to each person\n",
    "print(\"Ello \" + author)\n",
    "print(\"Ello \" + editor)\n"
   ]
  },
  {
   "cell_type": "code",
   "execution_count": 2,
   "id": "72380daa-e3f3-42ac-a342-ffa9c06d72d2",
   "metadata": {
    "tags": []
   },
   "outputs": [
    {
     "name": "stdout",
     "output_type": "stream",
     "text": [
      "Ello  Susan E. McGregor\n",
      "Ello  Jeff Bleiel\n",
      "Ello  Roman Kieß\n"
     ]
    }
   ],
   "source": [
    "# create a function that prints out a greeting\n",
    "# to any name passed to the function\n",
    "\n",
    "def greet_me(a_name):\n",
    "    print(\"Ello  \" + a_name)\n",
    "    \n",
    "# create a variable named author\n",
    "author = \"Susan E. McGregor\"\n",
    "\n",
    "# create a variable named editor, set its contents to \"Jeff Bleiel\"\n",
    "editor = \"Jeff Bleiel\"\n",
    "\n",
    "# create a variable named reader, set its contents to \"Roman Kieß\"\n",
    "reader = \"Roman Kieß\"\n",
    "\n",
    "# use my custom function, 'greet_me' to output\n",
    "# \"Ello\" messages to each person\n",
    "greet_me(author)\n",
    "greet_me(editor)\n",
    "greet_me(reader)\n"
   ]
  },
  {
   "cell_type": "code",
   "execution_count": 3,
   "id": "2511814a-625a-48e0-9725-652d07da5fe2",
   "metadata": {
    "tags": []
   },
   "outputs": [
    {
     "ename": "TypeError",
     "evalue": "greet_me() takes 1 positional argument but 2 were given",
     "output_type": "error",
     "traceback": [
      "\u001b[1;31m---------------------------------------------------------------------------\u001b[0m",
      "\u001b[1;31mTypeError\u001b[0m                                 Traceback (most recent call last)",
      "Cell \u001b[1;32mIn[3], line 18\u001b[0m\n\u001b[0;32m     14\u001b[0m reader \u001b[38;5;241m=\u001b[39m \u001b[38;5;124m\"\u001b[39m\u001b[38;5;124mRoman Kieß\u001b[39m\u001b[38;5;124m\"\u001b[39m\n\u001b[0;32m     16\u001b[0m \u001b[38;5;66;03m# use my custom function, 'greet_me' to output\u001b[39;00m\n\u001b[0;32m     17\u001b[0m \u001b[38;5;66;03m# \"Ello\" messages to each person\u001b[39;00m\n\u001b[1;32m---> 18\u001b[0m \u001b[43mgreet_me\u001b[49m\u001b[43m(\u001b[49m\u001b[43mauthor\u001b[49m\u001b[43m,\u001b[49m\u001b[43m \u001b[49m\u001b[43meditor\u001b[49m\u001b[43m)\u001b[49m\n\u001b[0;32m     19\u001b[0m greet_me(editor)\n\u001b[0;32m     20\u001b[0m greet_me(reader)\n",
      "\u001b[1;31mTypeError\u001b[0m: greet_me() takes 1 positional argument but 2 were given"
     ]
    }
   ],
   "source": [
    "# create a function that prints out a greeting\n",
    "# to any name passed to the function\n",
    "\n",
    "def greet_me(a_name):\n",
    "    print(\"Ello  \" + a_name)\n",
    "    \n",
    "# create a variable named author\n",
    "author = \"Susan E. McGregor\"\n",
    "\n",
    "# create a variable named editor, set its contents to \"Jeff Bleiel\"\n",
    "editor = \"Jeff Bleiel\"\n",
    "\n",
    "# create a variable named reader, set its contents to \"Roman Kieß\"\n",
    "reader = \"Roman Kieß\"\n",
    "\n",
    "# use my custom function, 'greet_me' to output\n",
    "# \"Ello\" messages to each person\n",
    "greet_me(author, editor)\n",
    "greet_me(editor)\n",
    "greet_me(reader)"
   ]
  },
  {
   "cell_type": "code",
   "execution_count": 4,
   "id": "6d9b3066-2d58-4969-8a11-e0e94052c73d",
   "metadata": {
    "tags": []
   },
   "outputs": [
    {
     "name": "stdout",
     "output_type": "stream",
     "text": [
      "Ello  Susan E. McGregor\n",
      "Ello  Jeff Bleiel\n"
     ]
    },
    {
     "ename": "TypeError",
     "evalue": "can only concatenate str (not \"int\") to str",
     "output_type": "error",
     "traceback": [
      "\u001b[1;31m---------------------------------------------------------------------------\u001b[0m",
      "\u001b[1;31mTypeError\u001b[0m                                 Traceback (most recent call last)",
      "Cell \u001b[1;32mIn[4], line 20\u001b[0m\n\u001b[0;32m     18\u001b[0m greet_me(author)\n\u001b[0;32m     19\u001b[0m greet_me(editor)\n\u001b[1;32m---> 20\u001b[0m \u001b[43mgreet_me\u001b[49m\u001b[43m(\u001b[49m\u001b[38;5;241;43m4\u001b[39;49m\u001b[43m)\u001b[49m\n",
      "Cell \u001b[1;32mIn[4], line 5\u001b[0m, in \u001b[0;36mgreet_me\u001b[1;34m(a_name)\u001b[0m\n\u001b[0;32m      4\u001b[0m \u001b[38;5;28;01mdef\u001b[39;00m \u001b[38;5;21mgreet_me\u001b[39m(a_name):\n\u001b[1;32m----> 5\u001b[0m     \u001b[38;5;28mprint\u001b[39m(\u001b[38;5;124;43m\"\u001b[39;49m\u001b[38;5;124;43mEllo  \u001b[39;49m\u001b[38;5;124;43m\"\u001b[39;49m\u001b[43m \u001b[49m\u001b[38;5;241;43m+\u001b[39;49m\u001b[43m \u001b[49m\u001b[43ma_name\u001b[49m)\n",
      "\u001b[1;31mTypeError\u001b[0m: can only concatenate str (not \"int\") to str"
     ]
    }
   ],
   "source": [
    "# create a function that prints out a greeting\n",
    "# to any name passed to the function\n",
    "\n",
    "def greet_me(a_name):\n",
    "    print(\"Ello  \" + a_name)\n",
    "    \n",
    "# create a variable named author\n",
    "author = \"Susan E. McGregor\"\n",
    "\n",
    "# create a variable named editor, set its contents to \"Jeff Bleiel\"\n",
    "editor = \"Jeff Bleiel\"\n",
    "\n",
    "# create a variable named reader, set its contents to \"Roman Kieß\"\n",
    "reader = \"Roman Kieß\"\n",
    "\n",
    "# use my custom function, 'greet_me' to output\n",
    "# \"Ello\" messages to each person\n",
    "greet_me(author)\n",
    "greet_me(editor)\n",
    "greet_me(4)"
   ]
  },
  {
   "cell_type": "code",
   "execution_count": 5,
   "id": "1e41f90e-4f2c-4af6-b425-836a23bcf7f0",
   "metadata": {
    "tags": []
   },
   "outputs": [
    {
     "name": "stdout",
     "output_type": "stream",
     "text": [
      "Ello  Susan E. McGregor\n",
      "Ello  Jeff Bleiel\n"
     ]
    },
    {
     "ename": "TypeError",
     "evalue": "greet_me() missing 1 required positional argument: 'a_name'",
     "output_type": "error",
     "traceback": [
      "\u001b[1;31m---------------------------------------------------------------------------\u001b[0m",
      "\u001b[1;31mTypeError\u001b[0m                                 Traceback (most recent call last)",
      "Cell \u001b[1;32mIn[5], line 20\u001b[0m\n\u001b[0;32m     18\u001b[0m greet_me(author)\n\u001b[0;32m     19\u001b[0m greet_me(editor)\n\u001b[1;32m---> 20\u001b[0m \u001b[43mgreet_me\u001b[49m\u001b[43m(\u001b[49m\u001b[43m)\u001b[49m\n",
      "\u001b[1;31mTypeError\u001b[0m: greet_me() missing 1 required positional argument: 'a_name'"
     ]
    }
   ],
   "source": [
    "# create a function that prints out a greeting\n",
    "# to any name passed to the function\n",
    "\n",
    "def greet_me(a_name):\n",
    "    print(\"Ello  \" + a_name)\n",
    "    \n",
    "# create a variable named author\n",
    "author = \"Susan E. McGregor\"\n",
    "\n",
    "# create a variable named editor, set its contents to \"Jeff Bleiel\"\n",
    "editor = \"Jeff Bleiel\"\n",
    "\n",
    "# create a variable named reader, set its contents to \"Roman Kieß\"\n",
    "reader = \"Roman Kieß\"\n",
    "\n",
    "# use my custom function, 'greet_me' to output\n",
    "# \"Ello\" messages to each person\n",
    "greet_me(author)\n",
    "greet_me(editor)\n",
    "greet_me()"
   ]
  },
  {
   "cell_type": "code",
   "execution_count": null,
   "id": "40cb4cac-07c3-42de-a820-643136c1da86",
   "metadata": {},
   "outputs": [],
   "source": []
  }
 ],
 "metadata": {
  "kernelspec": {
   "display_name": "Python 3 (ipykernel)",
   "language": "python",
   "name": "python3"
  },
  "language_info": {
   "codemirror_mode": {
    "name": "ipython",
    "version": 3
   },
   "file_extension": ".py",
   "mimetype": "text/x-python",
   "name": "python",
   "nbconvert_exporter": "python",
   "pygments_lexer": "ipython3",
   "version": "3.11.3"
  }
 },
 "nbformat": 4,
 "nbformat_minor": 5
}
