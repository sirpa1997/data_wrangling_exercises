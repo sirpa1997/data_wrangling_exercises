{
 "cells": [
  {
   "cell_type": "markdown",
   "id": "3af118ac-0b46-459e-96ec-1ce4271d5ac3",
   "metadata": {},
   "source": [
    "# Citibike\n",
    "\n",
    "#### Author: Roman Kieß\n",
    "#### Citibike01.ipynb\n",
    "#### erstellt: 2023-06-09\n",
    "#### Version 1.0\n",
    "\n"
   ]
  },
  {
   "cell_type": "markdown",
   "id": "3273be7b-a26e-40ee-9f0f-9da5a05a81a8",
   "metadata": {},
   "source": [
    "## Data Diary a la McGregor\n",
    "\n",
    "NYC Citi Bike Data\n",
    "\n",
    "Frage: Wie viele Fahrten pro Tag werden von verschiedenen Kunden-Typen gemacht?\n",
    "\n",
    "Schritt 1 - Locating or collecting data\n",
    "\n",
    "Schritt 2 - Assessing the data's quality\n",
    "\n",
    "Schritt 3 - Cleaning, standardizing, and/or transforming data\n",
    "\n",
    "Schritt 4 - Analyzing data\n",
    "\n",
    "Schritt 5 - Visualizing dataf\n",
    "\n",
    "Schritt 6 - Communicating data\n",
    "\n",
    "Fokus: Schritte 1 - 4 für Citi Bike Data\n",
    "\n",
    "Starting with Pseudocode\n",
    "\n",
    "Frage: Wie viele Fahrten pro Tag werden von den unterschiedenen Kunden-Typen\n",
    "\"subscribers\" oder \"customers\" gemacht?\n",
    "\n",
    "Antwort: Festlegung auf einen einzelnen, zu untersuchenden Tag\n",
    "Das DataSet für diese Aufgabe wurde aus Originaldaten von Citi Bike system data \n",
    "von der Quelle: https://s3.amazonaws.com/tripdata/index.html\n",
    "filename: 202009-citibike-tripdata.csv.zip\n",
    "## Programm Grobstruktur:\n",
    "1. data file einlesen 202009CitibikeTripdataExample.csv\n",
    "\n",
    "2. Erstellen von Variablen zur Zählung von subscribers, customers und other\n",
    "\n",
    "3. für jede Zeile des files \n",
    "a) wenn der user type ist subscriber zähle + 1 beim subscriber_count\n",
    "\n",
    "b) wenn der user type ist customer zähle + 1 beim customer_count\n",
    "\n",
    "c) Andernfalls zähle + 1 beim other\n",
    "\n",
    "4. Ausdruck der Ergebnisse"
   ]
  },
  {
   "cell_type": "code",
   "execution_count": 1,
   "id": "5a4f4fdb-fa45-4cfc-8aaa-b898bb483003",
   "metadata": {
    "tags": []
   },
   "outputs": [
    {
     "name": "stdout",
     "output_type": "stream",
     "text": [
      "['tripduration', 'starttime', 'stoptime', 'start station id', 'start station name', 'start station latitude', 'start station longitude', 'end station id', 'end station name', 'end station latitude', 'end station longitude', 'bikeid', 'usertype', 'birth year', 'gender']\n"
     ]
    }
   ],
   "source": [
    "# import csv library\n",
    "import csv\n",
    "\n",
    "# open the '202009CitibikeTripdataExample.csv' file in read (\"r\") mode\n",
    "# this file should be in the same folder as our Python notebook\n",
    "source_file = open(\"202009CitibikeTripdataExample.csv\", \"r\")\n",
    "\n",
    "# pass sourcefile as an ingredient to the csv library\n",
    "# DictReader recipe\n",
    "# store the result in a variable called citibike_reader\n",
    "citibike_reader = csv.DictReader(source_file)\n",
    "\n",
    "# the DictReader method has added some useful info to our data,\n",
    "# like fieldnames property that let us access the values\n",
    "# in the first header row\n",
    "print(citibike_reader.fieldnames)\n"
   ]
  },
  {
   "cell_type": "code",
   "execution_count": null,
   "id": "e324d55b-cfc2-4442-ac35-a067b64cffbc",
   "metadata": {},
   "outputs": [],
   "source": []
  }
 ],
 "metadata": {
  "kernelspec": {
   "display_name": "Python 3 (ipykernel)",
   "language": "python",
   "name": "python3"
  },
  "language_info": {
   "codemirror_mode": {
    "name": "ipython",
    "version": 3
   },
   "file_extension": ".py",
   "mimetype": "text/x-python",
   "name": "python",
   "nbconvert_exporter": "python",
   "pygments_lexer": "ipython3",
   "version": "3.11.3"
  }
 },
 "nbformat": 4,
 "nbformat_minor": 5
}
