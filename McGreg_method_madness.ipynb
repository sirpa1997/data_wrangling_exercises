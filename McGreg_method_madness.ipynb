{
 "cells": [
  {
   "cell_type": "markdown",
   "id": "0cacc5e5-0d08-493f-bf51-9ed3c222fe46",
   "metadata": {},
   "source": [
    "# split function"
   ]
  },
  {
   "cell_type": "code",
   "execution_count": 1,
   "id": "28e7b393-8343-45f0-a89a-2782add6aa2a",
   "metadata": {
    "tags": []
   },
   "outputs": [
    {
     "name": "stdout",
     "output_type": "stream",
     "text": [
      "['Ello', 'World!']\n"
     ]
    }
   ],
   "source": [
    "# splitting a string \"literal\" and then printing the result\n",
    "split_world = \"Ello World!\".split()\n",
    "print(split_world)"
   ]
  },
  {
   "cell_type": "code",
   "execution_count": 3,
   "id": "0afd262e-37df-43f2-90a2-def7b15c423c",
   "metadata": {
    "tags": []
   },
   "outputs": [
    {
     "name": "stdout",
     "output_type": "stream",
     "text": [
      "['Ellas', 'World!']\n"
     ]
    }
   ],
   "source": [
    "# assigning a string to a variable\n",
    "# then printing the result of calling the 'split()' method on it\n",
    "world_msg = \"Ellas World!\"\n",
    "print(world_msg.split())\n"
   ]
  },
  {
   "cell_type": "code",
   "execution_count": 4,
   "id": "0229c423-1044-44c3-85d9-0de32d4d3224",
   "metadata": {
    "tags": []
   },
   "outputs": [
    {
     "ename": "NameError",
     "evalue": "name 'split' is not defined",
     "output_type": "error",
     "traceback": [
      "\u001b[1;31m---------------------------------------------------------------------------\u001b[0m",
      "\u001b[1;31mNameError\u001b[0m                                 Traceback (most recent call last)",
      "Cell \u001b[1;32mIn[4], line 3\u001b[0m\n\u001b[0;32m      1\u001b[0m \u001b[38;5;66;03m# the following will produce an error because\u001b[39;00m\n\u001b[0;32m      2\u001b[0m \u001b[38;5;66;03m# the split() method must be called on a string in order to work!\u001b[39;00m\n\u001b[1;32m----> 3\u001b[0m \u001b[43msplit\u001b[49m(\u001b[38;5;124m\"\u001b[39m\u001b[38;5;124mHello Wurld!\u001b[39m\u001b[38;5;124m\"\u001b[39m)\n",
      "\u001b[1;31mNameError\u001b[0m: name 'split' is not defined"
     ]
    }
   ],
   "source": [
    "# the following will produce an error because\n",
    "# the split() method must be called on a string in order to work!\n",
    "split(\"Hello Wurld!\")\n"
   ]
  },
  {
   "cell_type": "code",
   "execution_count": 5,
   "id": "75c8ca90-053a-4dee-baf6-17a50b7c7137",
   "metadata": {
    "tags": []
   },
   "outputs": [
    {
     "ename": "SyntaxError",
     "evalue": "invalid decimal literal (73135932.py, line 3)",
     "output_type": "error",
     "traceback": [
      "\u001b[1;36m  Cell \u001b[1;32mIn[5], line 3\u001b[1;36m\u001b[0m\n\u001b[1;33m    print(5.split())\u001b[0m\n\u001b[1;37m           ^\u001b[0m\n\u001b[1;31mSyntaxError\u001b[0m\u001b[1;31m:\u001b[0m invalid decimal literal\n"
     ]
    }
   ],
   "source": [
    "# the following will produce an error because\n",
    "# there is no split() method for numbers!\n",
    "print(5.split())\n"
   ]
  },
  {
   "cell_type": "code",
   "execution_count": null,
   "id": "1e5d1596-c13f-4ece-8859-81aefd62ba99",
   "metadata": {},
   "outputs": [],
   "source": []
  }
 ],
 "metadata": {
  "kernelspec": {
   "display_name": "Python 3 (ipykernel)",
   "language": "python",
   "name": "python3"
  },
  "language_info": {
   "codemirror_mode": {
    "name": "ipython",
    "version": 3
   },
   "file_extension": ".py",
   "mimetype": "text/x-python",
   "name": "python",
   "nbconvert_exporter": "python",
   "pygments_lexer": "ipython3",
   "version": "3.11.3"
  }
 },
 "nbformat": 4,
 "nbformat_minor": 5
}
