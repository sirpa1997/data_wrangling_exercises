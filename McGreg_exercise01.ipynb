{
 "cells": [
  {
   "cell_type": "code",
   "execution_count": null,
   "id": "9fe604c7-ea20-49dd-9bc5-2295a011023e",
   "metadata": {},
   "outputs": [],
   "source": [
    "# a number is just digits\n",
    "25\n",
    "\n",
    "# a string is anything surrounded by matching quotation marks\n",
    "\"Ello World!\"\n",
    "\n",
    "# a list is surrounded by square brackets, with commas between items\n",
    "# note that in Python, the first list item in a list is considered to be\n",
    "# in position '0', the next in position '1' and so on\n",
    "[\"this\",\"is\",1,\"list\"]\n",
    "\n",
    "# a dict is a set of key:value pairs, separated by commas and surrounded\n",
    "# by curly braces\n",
    "{\"title\":\"Practical Python for Data Wrangling and Data Quality\",\n",
    " \"format\": \"book\",\n",
    " \"author\": \"Susan E. McGregor\"\n",
    "}\n",
    "\n",
    "# a boolean is a data type that has only two values, true and false.\n",
    "True"
   ]
  },
  {
   "cell_type": "code",
   "execution_count": 1,
   "id": "cb619dd1-e054-44c7-a2bf-e479fd870cd6",
   "metadata": {
    "tags": []
   },
   "outputs": [
    {
     "name": "stdout",
     "output_type": "stream",
     "text": [
      "Susan E. McGregor\n"
     ]
    }
   ],
   "source": [
    "# create a variable named author, set its contents to \"Susan E. McGregor\"\n",
    "author = \"Susan E. McGregor\"\n",
    "\n",
    "# confirm that the computer \"remembers\" what's in the 'author' variable\n",
    "print(author)\n",
    "\n"
   ]
  },
  {
   "cell_type": "code",
   "execution_count": null,
   "id": "58e9e986-dd77-454b-b320-8d7ece7bd47d",
   "metadata": {},
   "outputs": [],
   "source": []
  }
 ],
 "metadata": {
  "kernelspec": {
   "display_name": "Python 3 (ipykernel)",
   "language": "python",
   "name": "python3"
  },
  "language_info": {
   "codemirror_mode": {
    "name": "ipython",
    "version": 3
   },
   "file_extension": ".py",
   "mimetype": "text/x-python",
   "name": "python",
   "nbconvert_exporter": "python",
   "pygments_lexer": "ipython3",
   "version": "3.11.3"
  }
 },
 "nbformat": 4,
 "nbformat_minor": 5
}
